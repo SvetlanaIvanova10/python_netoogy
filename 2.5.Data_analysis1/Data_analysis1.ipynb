{
 "cells": [
  {
   "cell_type": "code",
   "execution_count": 14,
   "metadata": {},
   "outputs": [
    {
     "name": "stdout",
     "output_type": "stream",
     "text": [
      "ТОП-3 популярных имен для годов [1880]:\n",
      "         Count\n",
      "Name          \n",
      "John      9701\n",
      "William   9562\n",
      "Mary      7092\n",
      "ТОП-3 популярных имен для годов [1900, 1950, 2000]:\n",
      "         Count\n",
      "Name          \n",
      "James   111789\n",
      "John    109601\n",
      "Robert  101368\n",
      "динамика изменений количества имен за [1900, 1950, 2000] года в разрезе полов:\n",
      "               Count\n",
      "     Gender         \n",
      "1900 F        299798\n",
      "     M        150480\n",
      "1950 F       1713065\n",
      "     M       1790437\n",
      "2000 F       1815295\n",
      "     M       1963202\n"
     ]
    }
   ],
   "source": [
    "import pandas as pd\n",
    "def load_files(list_years):\n",
    "    names_by_year = {}\n",
    "    for year in list_years:\n",
    "        names_by_year[year] = pd.read_csv(\n",
    "            f'names/yob{year}.txt',\n",
    "            names=['Name','Gender','Count']\n",
    "        )\n",
    "    names_all = pd.concat(names_by_year)\n",
    "    names_all = pd.concat(names_by_year).reset_index(level=1, drop=True)\n",
    "    return names_all\n",
    "# С использованием Pandas написать функцию, которая загружает указанные года и выводит ТОП-3 популярных имен.\n",
    "def count_top3(years):\n",
    "    list_names = load_files(years)\n",
    "    max_count = list_names.groupby([list_names.iloc[:,0]]).sum()\n",
    "    max_count = max_count.sort_values('Count', ascending = False)\n",
    "    print(f'ТОП-3 популярных имен для годов {years}:')\n",
    "    print(max_count.head(3))\n",
    "    \n",
    "# С использованием Pandas написать функцию, \n",
    "# которая возвращает динамику изменения количества имен за указанные года в разрезе полов. \n",
    "def count_dynamics(years):\n",
    "    list_names = load_files(years)\n",
    "    print(f'динамика изменений количества имен за {years} года в разрезе полов:')\n",
    "    print(list_names.groupby([list_names.index, 'Gender']).sum())\n",
    "    \n",
    "    \n",
    "    \n",
    "count_top3([1880])    \n",
    "count_top3([1900, 1950, 2000])\n",
    "count_dynamics([1900, 1950, 2000])\n",
    "\n",
    "    "
   ]
  },
  {
   "cell_type": "code",
   "execution_count": null,
   "metadata": {},
   "outputs": [],
   "source": []
  }
 ],
 "metadata": {
  "kernelspec": {
   "display_name": "Python 3",
   "language": "python",
   "name": "python3"
  },
  "language_info": {
   "codemirror_mode": {
    "name": "ipython",
    "version": 3
   },
   "file_extension": ".py",
   "mimetype": "text/x-python",
   "name": "python",
   "nbconvert_exporter": "python",
   "pygments_lexer": "ipython3",
   "version": "3.7.1"
  }
 },
 "nbformat": 4,
 "nbformat_minor": 2
}
